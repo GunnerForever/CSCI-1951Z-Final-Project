{
 "cells": [
  {
   "cell_type": "code",
   "id": "initial_id",
   "metadata": {
    "collapsed": true,
    "ExecuteTime": {
     "end_time": "2024-05-04T04:31:45.309546Z",
     "start_time": "2024-05-04T04:31:44.860338Z"
    }
   },
   "source": "import pandas as pd",
   "outputs": [],
   "execution_count": 1
  },
  {
   "metadata": {},
   "cell_type": "markdown",
   "source": "### Original Data: All Fields Random",
   "id": "c536b075e162da66"
  },
  {
   "metadata": {
    "ExecuteTime": {
     "end_time": "2024-05-04T04:32:44.738115Z",
     "start_time": "2024-05-04T04:32:44.713709Z"
    }
   },
   "cell_type": "code",
   "source": [
    "resume = pd.read_csv(\"resume_without_bias/resume.csv\", header=0, index_col=None)\n",
    "resume_score = pd.read_csv(\"resume_without_bias/resume_result.csv\", header=0, index_col=None)\n",
    "resume_with_score = resume.copy()\n",
    "resume_with_score[\"Resume score\"] = resume_score[\"score\"].astype(float)\n",
    "resume_with_score.to_csv(\"resume_without_bias/resume_with_score.csv\", index=False)"
   ],
   "id": "c85c9511e3e44830",
   "outputs": [],
   "execution_count": 4
  },
  {
   "metadata": {},
   "cell_type": "markdown",
   "source": "### Gender Bias: Male 90%",
   "id": "227c9e34d412f139"
  },
  {
   "metadata": {
    "ExecuteTime": {
     "end_time": "2024-05-04T04:46:03.516084Z",
     "start_time": "2024-05-04T04:46:03.490962Z"
    }
   },
   "cell_type": "code",
   "source": [
    "male = pd.read_csv(\"resume_with_bias/gender_bias/male.csv\", header=0, index_col=None)\n",
    "male_score = pd.read_csv(\"resume_with_bias/gender_bias/resume_result_male.csv\", header=0, index_col=None)\n",
    "male_with_score = male.copy()\n",
    "male_with_score[\"Resume score\"] = male_score[\"score\"].astype(float)\n",
    "male_with_score.to_csv(\"resume_with_bias/gender_bias/male_with_score.csv\", index=False)"
   ],
   "id": "96a2f82d5c7e0c2f",
   "outputs": [],
   "execution_count": 6
  },
  {
   "metadata": {},
   "cell_type": "markdown",
   "source": "### Gender Bias: Female 90%",
   "id": "46a4c686c90aaa38"
  },
  {
   "metadata": {
    "ExecuteTime": {
     "end_time": "2024-05-04T04:51:38.261621Z",
     "start_time": "2024-05-04T04:51:38.236598Z"
    }
   },
   "cell_type": "code",
   "source": [
    "female = pd.read_csv(\"resume_with_bias/gender_bias/female.csv\", header=0, index_col=None)\n",
    "female_score = pd.read_csv(\"resume_with_bias/gender_bias/resume_result_female.csv\", header=0, index_col=None)\n",
    "female_with_score = female.copy()\n",
    "female_with_score[\"Resume score\"] = female_score[\"score\"].astype(float)\n",
    "female_with_score.to_csv(\"resume_with_bias/gender_bias/female_with_score.csv\", index=False)"
   ],
   "id": "ac01d3bbb23f6948",
   "outputs": [],
   "execution_count": 7
  },
  {
   "metadata": {},
   "cell_type": "markdown",
   "source": "### Gender Bias: Undeclared 90%",
   "id": "38e35b26f9d49cf6"
  },
  {
   "metadata": {
    "ExecuteTime": {
     "end_time": "2024-05-04T04:53:32.280953Z",
     "start_time": "2024-05-04T04:53:32.255052Z"
    }
   },
   "cell_type": "code",
   "source": [
    "na = pd.read_csv(\"resume_with_bias/gender_bias/na.csv\", header=0, index_col=None)\n",
    "na_score = pd.read_csv(\"resume_with_bias/gender_bias/resume_result_na.csv\", header=0, index_col=None)\n",
    "na_with_score = na.copy()\n",
    "na_with_score[\"Resume score\"] = na_score[\"score\"].astype(float)\n",
    "na_with_score.to_csv(\"resume_with_bias/gender_bias/na_with_score.csv\", index=False)"
   ],
   "id": "2841ea800f3cdd53",
   "outputs": [],
   "execution_count": 8
  },
  {
   "metadata": {},
   "cell_type": "markdown",
   "source": "### Authorization: Require (1) 90%",
   "id": "8a9304ee25c6dd63"
  },
  {
   "metadata": {
    "ExecuteTime": {
     "end_time": "2024-05-04T04:57:10.138420Z",
     "start_time": "2024-05-04T04:57:10.114606Z"
    }
   },
   "cell_type": "code",
   "source": [
    "require = pd.read_csv(\"resume_with_bias/authorization_bias/auth_1.csv\", header=0, index_col=None)\n",
    "require_score = pd.read_csv(\"resume_with_bias/authorization_bias/resume_result_auth1.csv\", header=0, index_col=None)\n",
    "require_with_score = require.copy()\n",
    "require_with_score[\"Resume score\"] = require_score[\"score\"].astype(float)\n",
    "require_with_score.to_csv(\"resume_with_bias/authorization_bias/auth1_with_score.csv\", index=False)"
   ],
   "id": "acf9155201e2bb1",
   "outputs": [],
   "execution_count": 9
  },
  {
   "metadata": {},
   "cell_type": "markdown",
   "source": "### Authorization: Not Require (0) 90%",
   "id": "969b750dce52caa4"
  },
  {
   "metadata": {
    "ExecuteTime": {
     "end_time": "2024-05-04T05:11:14.494056Z",
     "start_time": "2024-05-04T05:11:14.467129Z"
    }
   },
   "cell_type": "code",
   "source": [
    "nrequire = pd.read_csv(\"resume_with_bias/authorization_bias/auth_0.csv\", header=0, index_col=None)\n",
    "nrequire_score = pd.read_csv(\"resume_with_bias/authorization_bias/resume_result_auth0.csv\", header=0, index_col=None)\n",
    "nrequire_with_score = nrequire.copy()\n",
    "nrequire_with_score[\"Resume score\"] = nrequire_score[\"score\"].astype(float)\n",
    "nrequire_with_score.to_csv(\"resume_with_bias/authorization_bias/auth0_with_score.csv\", index=False)"
   ],
   "id": "9e7038f2af5fa48c",
   "outputs": [],
   "execution_count": 10
  },
  {
   "metadata": {},
   "cell_type": "markdown",
   "source": "### Ethnicity: White (0) 90%",
   "id": "8ebfaede5bbf776c"
  },
  {
   "metadata": {
    "ExecuteTime": {
     "end_time": "2024-05-08T01:18:43.887052Z",
     "start_time": "2024-05-08T01:18:43.838572Z"
    }
   },
   "cell_type": "code",
   "source": [
    "white = pd.read_csv(\"resume_with_bias/ethnicity_bias/eth_0.csv\", header=0, index_col=None)\n",
    "white_score = pd.read_csv(\"resume_with_bias/ethnicity_bias/resume_result_eth0.csv\", header=0, index_col=None)\n",
    "white_with_score = white.copy()\n",
    "white_with_score[\"Resume score\"] = white_score[\"score\"].astype(float)\n",
    "white_with_score.to_csv(\"resume_with_bias/ethnicity_bias/eth0_with_score.csv\", index=False)"
   ],
   "id": "c156e9d9e4a5d1d9",
   "outputs": [],
   "execution_count": 16
  },
  {
   "metadata": {},
   "cell_type": "markdown",
   "source": "### Ethnicity: Black (1) 90%",
   "id": "423f4d11f4ca0001"
  },
  {
   "metadata": {
    "ExecuteTime": {
     "end_time": "2024-05-08T01:18:45.655840Z",
     "start_time": "2024-05-08T01:18:45.628888Z"
    }
   },
   "cell_type": "code",
   "source": [
    "black = pd.read_csv(\"resume_with_bias/ethnicity_bias/eth_1.csv\", header=0, index_col=None)\n",
    "black_score = pd.read_csv(\"resume_with_bias/ethnicity_bias/resume_result_eth1.csv\", header=0, index_col=None)\n",
    "black_with_score = black.copy()\n",
    "black_with_score[\"Resume score\"] = black_score[\"score\"].astype(float)\n",
    "black_with_score.to_csv(\"resume_with_bias/ethnicity_bias/eth1_with_score.csv\", index=False)"
   ],
   "id": "baedcc2794eebe2d",
   "outputs": [],
   "execution_count": 17
  },
  {
   "metadata": {},
   "cell_type": "markdown",
   "source": "### Ethnicity: Native American (2) 90%",
   "id": "3bb18ee995fed5f6"
  },
  {
   "metadata": {
    "ExecuteTime": {
     "end_time": "2024-05-08T01:18:47.494513Z",
     "start_time": "2024-05-08T01:18:47.465999Z"
    }
   },
   "cell_type": "code",
   "source": [
    "native = pd.read_csv(\"resume_with_bias/ethnicity_bias/eth_2.csv\", header=0, index_col=None)\n",
    "native_score = pd.read_csv(\"resume_with_bias/ethnicity_bias/resume_result_eth2.csv\", header=0, index_col=None)\n",
    "native_with_score = native.copy()\n",
    "native_with_score[\"Resume score\"] = native_score[\"score\"].astype(float)\n",
    "native_with_score.to_csv(\"resume_with_bias/ethnicity_bias/eth2_with_score.csv\", index=False)"
   ],
   "id": "7b50f591e22480fa",
   "outputs": [],
   "execution_count": 18
  },
  {
   "metadata": {},
   "cell_type": "markdown",
   "source": "### Ethnicity: Asian American & Pacific Islander (3) 90%",
   "id": "33cbb8e571dbe128"
  },
  {
   "metadata": {
    "ExecuteTime": {
     "end_time": "2024-05-08T01:18:49.262853Z",
     "start_time": "2024-05-08T01:18:49.232943Z"
    }
   },
   "cell_type": "code",
   "source": [
    "asian = pd.read_csv(\"resume_with_bias/ethnicity_bias/eth_3.csv\", header=0, index_col=None)\n",
    "asian_score = pd.read_csv(\"resume_with_bias/ethnicity_bias/resume_result_eth3.csv\", header=0, index_col=None)\n",
    "asian_with_score = asian.copy()\n",
    "asian_with_score[\"Resume score\"] = asian_score[\"score\"].astype(float)\n",
    "asian_with_score.to_csv(\"resume_with_bias/ethnicity_bias/eth3_with_score.csv\", index=False)"
   ],
   "id": "5b7942c5b687a531",
   "outputs": [],
   "execution_count": 19
  },
  {
   "metadata": {},
   "cell_type": "markdown",
   "source": "### Ethnicity: Other (4) 90%",
   "id": "b05d10a0953cacc9"
  },
  {
   "metadata": {
    "ExecuteTime": {
     "end_time": "2024-05-08T01:18:50.660295Z",
     "start_time": "2024-05-08T01:18:50.632264Z"
    }
   },
   "cell_type": "code",
   "source": [
    "other = pd.read_csv(\"resume_with_bias/ethnicity_bias/eth_4.csv\", header=0, index_col=None)\n",
    "other_score = pd.read_csv(\"resume_with_bias/ethnicity_bias/resume_result_eth4.csv\", header=0, index_col=None)\n",
    "other_with_score = other.copy()\n",
    "other_with_score[\"Resume score\"] = other_score[\"score\"].astype(float)\n",
    "other_with_score.to_csv(\"resume_with_bias/ethnicity_bias/eth4_with_score.csv\", index=False)"
   ],
   "id": "ef029565a7e18d17",
   "outputs": [],
   "execution_count": 20
  },
  {
   "metadata": {},
   "cell_type": "markdown",
   "source": "### Veteran Status: Yes (1) 90%",
   "id": "51a46ec1b7619049"
  },
  {
   "metadata": {
    "ExecuteTime": {
     "end_time": "2024-05-08T01:21:02.045192Z",
     "start_time": "2024-05-08T01:21:01.995728Z"
    }
   },
   "cell_type": "code",
   "source": [
    "veteran = pd.read_csv(\"resume_with_bias/veteran_bias/vet_1.csv\", header=0, index_col=None)\n",
    "veteran_score = pd.read_csv(\"resume_with_bias/veteran_bias/resume_result_vet1.csv\", header=0, index_col=None)\n",
    "veteran_with_score = veteran.copy()\n",
    "veteran_with_score[\"Resume score\"] = veteran_score[\"score\"].astype(float)\n",
    "veteran_with_score.to_csv(\"resume_with_bias/veteran_bias/vet1_with_score.csv\", index=False)"
   ],
   "id": "958b6f293ddc084f",
   "outputs": [],
   "execution_count": 21
  },
  {
   "metadata": {},
   "cell_type": "markdown",
   "source": "### Veteran Status: No (0) 90%",
   "id": "3d65f0fa37c704af"
  },
  {
   "metadata": {
    "ExecuteTime": {
     "end_time": "2024-05-08T01:22:11.989521Z",
     "start_time": "2024-05-08T01:22:11.963142Z"
    }
   },
   "cell_type": "code",
   "source": [
    "nveteran = pd.read_csv(\"resume_with_bias/veteran_bias/vet_0.csv\", header=0, index_col=None)\n",
    "nveteran_score = pd.read_csv(\"resume_with_bias/veteran_bias/resume_result_vet0.csv\", header=0, index_col=None)\n",
    "nveteran_with_score = nveteran.copy()\n",
    "nveteran_with_score[\"Resume score\"] = nveteran_score[\"score\"].astype(float)\n",
    "nveteran_with_score.to_csv(\"resume_with_bias/veteran_bias/vet0_with_score.csv\", index=False)"
   ],
   "id": "bcd8fa0f47f6db00",
   "outputs": [],
   "execution_count": 22
  },
  {
   "metadata": {},
   "cell_type": "markdown",
   "source": "### Veteran Status: N/A 90%",
   "id": "4cdbe120cc88611f"
  },
  {
   "metadata": {
    "ExecuteTime": {
     "end_time": "2024-05-08T01:23:46.687781Z",
     "start_time": "2024-05-08T01:23:46.661404Z"
    }
   },
   "cell_type": "code",
   "source": [
    "na_veteran = pd.read_csv(\"resume_with_bias/veteran_bias/vet_na.csv\", header=0, index_col=None)\n",
    "na_veteran_score = pd.read_csv(\"resume_with_bias/veteran_bias/resume_result_vetna.csv\", header=0, index_col=None)\n",
    "na_veteran_with_score = na_veteran.copy()\n",
    "na_veteran_with_score[\"Resume score\"] = na_veteran_score[\"score\"].astype(float)\n",
    "na_veteran_with_score.to_csv(\"resume_with_bias/veteran_bias/vetna_with_score.csv\", index=False)"
   ],
   "id": "bc6b43bddd06b350",
   "outputs": [],
   "execution_count": 23
  },
  {
   "metadata": {},
   "cell_type": "markdown",
   "source": "### Disability Status: Yes (1) 90%",
   "id": "d551452f73cf059e"
  },
  {
   "metadata": {
    "ExecuteTime": {
     "end_time": "2024-05-08T01:30:37.928744Z",
     "start_time": "2024-05-08T01:30:37.902159Z"
    }
   },
   "cell_type": "code",
   "source": [
    "disable = pd.read_csv(\"resume_with_bias/disability_bias/dis_1.csv\", header=0, index_col=None)\n",
    "disable_score = pd.read_csv(\"resume_with_bias/disability_bias/resume_result_dis1.csv\", header=0, index_col=None)\n",
    "disable_with_score = disable.copy()\n",
    "disable_with_score[\"Resume score\"] = disable_score[\"score\"].astype(float)\n",
    "disable_with_score.to_csv(\"resume_with_bias/disability_bias/dis1_with_score.csv\", index=False)"
   ],
   "id": "f2c6089c921b21d5",
   "outputs": [],
   "execution_count": 24
  },
  {
   "metadata": {},
   "cell_type": "markdown",
   "source": "### Disability Status: No (0) 90%",
   "id": "b9815a492ba335d7"
  },
  {
   "metadata": {
    "ExecuteTime": {
     "end_time": "2024-05-08T01:31:49.951046Z",
     "start_time": "2024-05-08T01:31:49.926895Z"
    }
   },
   "cell_type": "code",
   "source": [
    "ndisable = pd.read_csv(\"resume_with_bias/disability_bias/dis_0.csv\", header=0, index_col=None)\n",
    "ndisable_score = pd.read_csv(\"resume_with_bias/disability_bias/resume_result_dis0.csv\", header=0, index_col=None)\n",
    "ndisable_with_score = ndisable.copy()\n",
    "ndisable_with_score[\"Resume score\"] = ndisable_score[\"score\"].astype(float)\n",
    "ndisable_with_score.to_csv(\"resume_with_bias/disability_bias/dis0_with_score.csv\", index=False)"
   ],
   "id": "52c1014eac497b3",
   "outputs": [],
   "execution_count": 25
  },
  {
   "metadata": {},
   "cell_type": "markdown",
   "source": "### Disability Status: N/A 90%",
   "id": "a2b257f12b31fb02"
  },
  {
   "metadata": {
    "ExecuteTime": {
     "end_time": "2024-05-08T01:33:08.254888Z",
     "start_time": "2024-05-08T01:33:08.230412Z"
    }
   },
   "cell_type": "code",
   "source": [
    "na_disable = pd.read_csv(\"resume_with_bias/disability_bias/dis_na.csv\", header=0, index_col=None)\n",
    "na_disable_score = pd.read_csv(\"resume_with_bias/disability_bias/resume_result_disna.csv\", header=0, index_col=None)\n",
    "na_disable_with_score = na_disable.copy()\n",
    "na_disable_with_score[\"Resume score\"] = na_disable_score[\"score\"].astype(float)\n",
    "na_disable_with_score.to_csv(\"resume_with_bias/disability_bias/disna_with_score.csv\", index=False)"
   ],
   "id": "f29b9dfe367c2a0b",
   "outputs": [],
   "execution_count": 26
  }
 ],
 "metadata": {
  "kernelspec": {
   "display_name": "Python 3",
   "language": "python",
   "name": "python3"
  },
  "language_info": {
   "codemirror_mode": {
    "name": "ipython",
    "version": 2
   },
   "file_extension": ".py",
   "mimetype": "text/x-python",
   "name": "python",
   "nbconvert_exporter": "python",
   "pygments_lexer": "ipython2",
   "version": "2.7.6"
  }
 },
 "nbformat": 4,
 "nbformat_minor": 5
}
