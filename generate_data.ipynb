{
 "cells": [
  {
   "cell_type": "code",
   "id": "initial_id",
   "metadata": {
    "ExecuteTime": {
     "end_time": "2024-05-04T04:02:12.555099Z",
     "start_time": "2024-05-04T04:02:12.551111Z"
    }
   },
   "source": [
    "import numpy as np\n",
    "import pandas as pd\n",
    "import datetime\n",
    "from dateutil.relativedelta import relativedelta"
   ],
   "outputs": [],
   "execution_count": 42
  },
  {
   "cell_type": "code",
   "id": "d4db0efa9ec27c83",
   "metadata": {
    "ExecuteTime": {
     "end_time": "2024-05-04T04:02:45.602591Z",
     "start_time": "2024-05-04T04:02:45.596981Z"
    }
   },
   "source": [
    "schools = [\"Brown University\", \"Providence University\", \"Providence College\", \"University of Rhode Island\", \"Providence State University\", \"State Providence College\", \"Providence School\", \"Bryant University\", \"Boston College\", \"Boston University\", \"Northeastern University\", \"Columbia University\", \"Harvard University\", \"MIT\", \"UC Berkeley\", \"UCLA\", \"UCSB\"]\n",
    "GPA = np.linspace(1, 4, 100)\n",
    "Degree = [\"Bachelors\", \"Masters\", \"PhD\"]\n",
    "Location = [\"Boston\", \"Providence\", \"Los Angeles\", \"Philadelphia\", \"Miami\", \"Chicago\", \"New York\", \"San Francisco\", \"Las Vegas\", \"Washington\"]\n",
    "Gender = [\"M\", \"F\", \"N/A\"]\n",
    "veteran = [1, 0, \"N/A\"]\n",
    "work_auth = [1, 0]\n",
    "disable = [0, 1, \"N/A\"]\n",
    "ethnicity = [0, 1, 2, 3, 4]\n",
    "role = [\"Software Engineer\", \"Machine Learning Engineer\", \"Data Scientist\", \"Hardware Engineer\", \"Data Analyst\", \"Research Scientist\", \"Quantitative Analyst\", \"Software Tester\"]"
   ],
   "outputs": [],
   "execution_count": 43
  },
  {
   "cell_type": "code",
   "id": "cf489d527ffc8338",
   "metadata": {
    "ExecuteTime": {
     "end_time": "2024-05-04T04:02:48.910749Z",
     "start_time": "2024-05-04T04:02:48.904147Z"
    }
   },
   "source": [
    "def diff_month(d1, d2):\n",
    "    return (d2.year - d1.year) * 12 + d2.month - d1.month\n",
    "\n",
    "def random_date(start, end):\n",
    "    date1 = datetime.datetime.strptime(start, \"%m/%Y\")\n",
    "    date2 = datetime.datetime.strptime(end, \"%m/%Y\")\n",
    "\n",
    "    total_months = diff_month(date1, date2)\n",
    "    random_months = np.random.randint(0, total_months)\n",
    "    rand_date = date1 + relativedelta(months=random_months)\n",
    "    \n",
    "    rand_date = rand_date.strftime(\"%m/%Y\")\n",
    "    \n",
    "    month, year = rand_date.split(\"/\")\n",
    "    return f\"{month}/{year[2:]}\"\n",
    "\n",
    "def generate_a_sample(applicant_id: int) -> dict:\n",
    "    fields = {\n",
    "        \"Applicant ID\" : applicant_id,\n",
    "        \"School Name\": np.random.choice(schools),\n",
    "        \"GPA\": np.round(np.random.uniform(1.0, 4.0, 1), 2)[0],\n",
    "        \"Degree\": np.random.choice(Degree),\n",
    "        \"Location\": np.random.choice(Location),\n",
    "        \"Gender\": np.random.choice(Gender),\n",
    "        \"Veteran status\": np.random.choice(veteran),\n",
    "        \"Work authorization\": np.random.choice(work_auth),\n",
    "        \"Disability\": np.random.choice(disable),\n",
    "        \"Ethnicity\": np.random.choice(ethnicity),\n",
    "        \"Role 1\": np.random.choice(role),\n",
    "        \"Start 1\": random_date(\"12/2018\", \"12/2020\"),\n",
    "        \"End 1\": random_date(\"01/2021\", \"12/2023\"),\n",
    "        \"Role 2\": np.random.choice(role),\n",
    "        \"Start 2\": random_date(\"12/2016\", \"12/2018\"),\n",
    "        \"End 2\": random_date(\"01/2019\", \"12/2021\"),\n",
    "        \"Role 3\": np.random.choice(role),\n",
    "        \"Start 3\": random_date(\"12/2013\", \"12/2016\"),\n",
    "        \"End 3\": random_date(\"01/2017\", \"12/2019\")\n",
    "    }\n",
    "    \n",
    "    return fields"
   ],
   "outputs": [],
   "execution_count": 44
  },
  {
   "cell_type": "code",
   "id": "490c39d4327b86f1",
   "metadata": {
    "ExecuteTime": {
     "end_time": "2024-05-04T04:03:08.413175Z",
     "start_time": "2024-05-04T04:03:07.717640Z"
    }
   },
   "source": [
    "np.random.seed(1951)\n",
    "samples = []\n",
    "for i in range(3000):\n",
    "    samples.append(generate_a_sample(i))\n",
    "\n",
    "samples = pd.DataFrame(samples)"
   ],
   "outputs": [],
   "execution_count": 49
  },
  {
   "cell_type": "code",
   "id": "f8a9cf769c7bf",
   "metadata": {
    "ExecuteTime": {
     "end_time": "2024-05-04T04:03:22.433291Z",
     "start_time": "2024-05-04T04:03:22.409731Z"
    }
   },
   "source": [
    "samples.to_csv(\"resume_without_bias/resume.csv\", index=False)\n",
    "samples"
   ],
   "outputs": [
    {
     "data": {
      "text/plain": [
       "      Applicant ID                 School Name   GPA     Degree  \\\n",
       "0                0  University of Rhode Island  2.34  Bachelors   \n",
       "1                1           Bryant University  3.71        PhD   \n",
       "2                2            Brown University  3.06    Masters   \n",
       "3                3  University of Rhode Island  1.04  Bachelors   \n",
       "4                4  University of Rhode Island  1.35    Masters   \n",
       "...            ...                         ...   ...        ...   \n",
       "2995          2995    State Providence College  3.90    Masters   \n",
       "2996          2996           Boston University  2.65  Bachelors   \n",
       "2997          2997         Columbia University  3.75        PhD   \n",
       "2998          2998           Providence School  1.77  Bachelors   \n",
       "2999          2999     Northeastern University  2.94  Bachelors   \n",
       "\n",
       "           Location Gender Veteran status  Work authorization Disability  \\\n",
       "0         Las Vegas    N/A              1                   1          1   \n",
       "1     San Francisco      M            N/A                   0        N/A   \n",
       "2          New York    N/A              0                   0        N/A   \n",
       "3           Chicago      M              1                   1        N/A   \n",
       "4      Philadelphia    N/A              1                   0          0   \n",
       "...             ...    ...            ...                 ...        ...   \n",
       "2995         Boston      M              0                   1          0   \n",
       "2996   Philadelphia      M            N/A                   0          0   \n",
       "2997   Philadelphia    N/A              1                   0          1   \n",
       "2998      Las Vegas      M              1                   0        N/A   \n",
       "2999    Los Angeles      F              0                   1        N/A   \n",
       "\n",
       "      Ethnicity                     Role 1 Start 1  End 1  \\\n",
       "0             4       Quantitative Analyst   06/19  11/22   \n",
       "1             0            Software Tester   04/19  03/23   \n",
       "2             1          Hardware Engineer   10/20  05/22   \n",
       "3             0             Data Scientist   04/20  11/23   \n",
       "4             0         Research Scientist   05/20  10/22   \n",
       "...         ...                        ...     ...    ...   \n",
       "2995          1  Machine Learning Engineer   06/19  02/22   \n",
       "2996          2  Machine Learning Engineer   03/19  10/21   \n",
       "2997          1          Software Engineer   05/19  11/21   \n",
       "2998          1       Quantitative Analyst   06/19  05/23   \n",
       "2999          0          Hardware Engineer   07/20  09/21   \n",
       "\n",
       "                         Role 2 Start 2  End 2                Role 3 Start 3  \\\n",
       "0     Machine Learning Engineer   10/17  02/21     Hardware Engineer   03/15   \n",
       "1             Hardware Engineer   05/17  05/20        Data Scientist   12/13   \n",
       "2             Software Engineer   04/17  04/21    Research Scientist   07/14   \n",
       "3               Software Tester   07/18  06/20        Data Scientist   04/15   \n",
       "4                Data Scientist   05/18  06/21    Research Scientist   04/15   \n",
       "...                         ...     ...    ...                   ...     ...   \n",
       "2995          Software Engineer   04/18  08/19     Hardware Engineer   06/16   \n",
       "2996          Hardware Engineer   03/18  12/20        Data Scientist   10/15   \n",
       "2997          Software Engineer   03/18  09/20       Software Tester   11/15   \n",
       "2998  Machine Learning Engineer   08/18  11/19  Quantitative Analyst   03/15   \n",
       "2999             Data Scientist   08/18  11/19     Software Engineer   09/15   \n",
       "\n",
       "      End 3  \n",
       "0     10/19  \n",
       "1     06/17  \n",
       "2     06/18  \n",
       "3     06/19  \n",
       "4     05/18  \n",
       "...     ...  \n",
       "2995  04/19  \n",
       "2996  03/17  \n",
       "2997  10/19  \n",
       "2998  10/18  \n",
       "2999  06/17  \n",
       "\n",
       "[3000 rows x 19 columns]"
      ],
      "text/html": [
       "<div>\n",
       "<style scoped>\n",
       "    .dataframe tbody tr th:only-of-type {\n",
       "        vertical-align: middle;\n",
       "    }\n",
       "\n",
       "    .dataframe tbody tr th {\n",
       "        vertical-align: top;\n",
       "    }\n",
       "\n",
       "    .dataframe thead th {\n",
       "        text-align: right;\n",
       "    }\n",
       "</style>\n",
       "<table border=\"1\" class=\"dataframe\">\n",
       "  <thead>\n",
       "    <tr style=\"text-align: right;\">\n",
       "      <th></th>\n",
       "      <th>Applicant ID</th>\n",
       "      <th>School Name</th>\n",
       "      <th>GPA</th>\n",
       "      <th>Degree</th>\n",
       "      <th>Location</th>\n",
       "      <th>Gender</th>\n",
       "      <th>Veteran status</th>\n",
       "      <th>Work authorization</th>\n",
       "      <th>Disability</th>\n",
       "      <th>Ethnicity</th>\n",
       "      <th>Role 1</th>\n",
       "      <th>Start 1</th>\n",
       "      <th>End 1</th>\n",
       "      <th>Role 2</th>\n",
       "      <th>Start 2</th>\n",
       "      <th>End 2</th>\n",
       "      <th>Role 3</th>\n",
       "      <th>Start 3</th>\n",
       "      <th>End 3</th>\n",
       "    </tr>\n",
       "  </thead>\n",
       "  <tbody>\n",
       "    <tr>\n",
       "      <th>0</th>\n",
       "      <td>0</td>\n",
       "      <td>University of Rhode Island</td>\n",
       "      <td>2.34</td>\n",
       "      <td>Bachelors</td>\n",
       "      <td>Las Vegas</td>\n",
       "      <td>N/A</td>\n",
       "      <td>1</td>\n",
       "      <td>1</td>\n",
       "      <td>1</td>\n",
       "      <td>4</td>\n",
       "      <td>Quantitative Analyst</td>\n",
       "      <td>06/19</td>\n",
       "      <td>11/22</td>\n",
       "      <td>Machine Learning Engineer</td>\n",
       "      <td>10/17</td>\n",
       "      <td>02/21</td>\n",
       "      <td>Hardware Engineer</td>\n",
       "      <td>03/15</td>\n",
       "      <td>10/19</td>\n",
       "    </tr>\n",
       "    <tr>\n",
       "      <th>1</th>\n",
       "      <td>1</td>\n",
       "      <td>Bryant University</td>\n",
       "      <td>3.71</td>\n",
       "      <td>PhD</td>\n",
       "      <td>San Francisco</td>\n",
       "      <td>M</td>\n",
       "      <td>N/A</td>\n",
       "      <td>0</td>\n",
       "      <td>N/A</td>\n",
       "      <td>0</td>\n",
       "      <td>Software Tester</td>\n",
       "      <td>04/19</td>\n",
       "      <td>03/23</td>\n",
       "      <td>Hardware Engineer</td>\n",
       "      <td>05/17</td>\n",
       "      <td>05/20</td>\n",
       "      <td>Data Scientist</td>\n",
       "      <td>12/13</td>\n",
       "      <td>06/17</td>\n",
       "    </tr>\n",
       "    <tr>\n",
       "      <th>2</th>\n",
       "      <td>2</td>\n",
       "      <td>Brown University</td>\n",
       "      <td>3.06</td>\n",
       "      <td>Masters</td>\n",
       "      <td>New York</td>\n",
       "      <td>N/A</td>\n",
       "      <td>0</td>\n",
       "      <td>0</td>\n",
       "      <td>N/A</td>\n",
       "      <td>1</td>\n",
       "      <td>Hardware Engineer</td>\n",
       "      <td>10/20</td>\n",
       "      <td>05/22</td>\n",
       "      <td>Software Engineer</td>\n",
       "      <td>04/17</td>\n",
       "      <td>04/21</td>\n",
       "      <td>Research Scientist</td>\n",
       "      <td>07/14</td>\n",
       "      <td>06/18</td>\n",
       "    </tr>\n",
       "    <tr>\n",
       "      <th>3</th>\n",
       "      <td>3</td>\n",
       "      <td>University of Rhode Island</td>\n",
       "      <td>1.04</td>\n",
       "      <td>Bachelors</td>\n",
       "      <td>Chicago</td>\n",
       "      <td>M</td>\n",
       "      <td>1</td>\n",
       "      <td>1</td>\n",
       "      <td>N/A</td>\n",
       "      <td>0</td>\n",
       "      <td>Data Scientist</td>\n",
       "      <td>04/20</td>\n",
       "      <td>11/23</td>\n",
       "      <td>Software Tester</td>\n",
       "      <td>07/18</td>\n",
       "      <td>06/20</td>\n",
       "      <td>Data Scientist</td>\n",
       "      <td>04/15</td>\n",
       "      <td>06/19</td>\n",
       "    </tr>\n",
       "    <tr>\n",
       "      <th>4</th>\n",
       "      <td>4</td>\n",
       "      <td>University of Rhode Island</td>\n",
       "      <td>1.35</td>\n",
       "      <td>Masters</td>\n",
       "      <td>Philadelphia</td>\n",
       "      <td>N/A</td>\n",
       "      <td>1</td>\n",
       "      <td>0</td>\n",
       "      <td>0</td>\n",
       "      <td>0</td>\n",
       "      <td>Research Scientist</td>\n",
       "      <td>05/20</td>\n",
       "      <td>10/22</td>\n",
       "      <td>Data Scientist</td>\n",
       "      <td>05/18</td>\n",
       "      <td>06/21</td>\n",
       "      <td>Research Scientist</td>\n",
       "      <td>04/15</td>\n",
       "      <td>05/18</td>\n",
       "    </tr>\n",
       "    <tr>\n",
       "      <th>...</th>\n",
       "      <td>...</td>\n",
       "      <td>...</td>\n",
       "      <td>...</td>\n",
       "      <td>...</td>\n",
       "      <td>...</td>\n",
       "      <td>...</td>\n",
       "      <td>...</td>\n",
       "      <td>...</td>\n",
       "      <td>...</td>\n",
       "      <td>...</td>\n",
       "      <td>...</td>\n",
       "      <td>...</td>\n",
       "      <td>...</td>\n",
       "      <td>...</td>\n",
       "      <td>...</td>\n",
       "      <td>...</td>\n",
       "      <td>...</td>\n",
       "      <td>...</td>\n",
       "      <td>...</td>\n",
       "    </tr>\n",
       "    <tr>\n",
       "      <th>2995</th>\n",
       "      <td>2995</td>\n",
       "      <td>State Providence College</td>\n",
       "      <td>3.90</td>\n",
       "      <td>Masters</td>\n",
       "      <td>Boston</td>\n",
       "      <td>M</td>\n",
       "      <td>0</td>\n",
       "      <td>1</td>\n",
       "      <td>0</td>\n",
       "      <td>1</td>\n",
       "      <td>Machine Learning Engineer</td>\n",
       "      <td>06/19</td>\n",
       "      <td>02/22</td>\n",
       "      <td>Software Engineer</td>\n",
       "      <td>04/18</td>\n",
       "      <td>08/19</td>\n",
       "      <td>Hardware Engineer</td>\n",
       "      <td>06/16</td>\n",
       "      <td>04/19</td>\n",
       "    </tr>\n",
       "    <tr>\n",
       "      <th>2996</th>\n",
       "      <td>2996</td>\n",
       "      <td>Boston University</td>\n",
       "      <td>2.65</td>\n",
       "      <td>Bachelors</td>\n",
       "      <td>Philadelphia</td>\n",
       "      <td>M</td>\n",
       "      <td>N/A</td>\n",
       "      <td>0</td>\n",
       "      <td>0</td>\n",
       "      <td>2</td>\n",
       "      <td>Machine Learning Engineer</td>\n",
       "      <td>03/19</td>\n",
       "      <td>10/21</td>\n",
       "      <td>Hardware Engineer</td>\n",
       "      <td>03/18</td>\n",
       "      <td>12/20</td>\n",
       "      <td>Data Scientist</td>\n",
       "      <td>10/15</td>\n",
       "      <td>03/17</td>\n",
       "    </tr>\n",
       "    <tr>\n",
       "      <th>2997</th>\n",
       "      <td>2997</td>\n",
       "      <td>Columbia University</td>\n",
       "      <td>3.75</td>\n",
       "      <td>PhD</td>\n",
       "      <td>Philadelphia</td>\n",
       "      <td>N/A</td>\n",
       "      <td>1</td>\n",
       "      <td>0</td>\n",
       "      <td>1</td>\n",
       "      <td>1</td>\n",
       "      <td>Software Engineer</td>\n",
       "      <td>05/19</td>\n",
       "      <td>11/21</td>\n",
       "      <td>Software Engineer</td>\n",
       "      <td>03/18</td>\n",
       "      <td>09/20</td>\n",
       "      <td>Software Tester</td>\n",
       "      <td>11/15</td>\n",
       "      <td>10/19</td>\n",
       "    </tr>\n",
       "    <tr>\n",
       "      <th>2998</th>\n",
       "      <td>2998</td>\n",
       "      <td>Providence School</td>\n",
       "      <td>1.77</td>\n",
       "      <td>Bachelors</td>\n",
       "      <td>Las Vegas</td>\n",
       "      <td>M</td>\n",
       "      <td>1</td>\n",
       "      <td>0</td>\n",
       "      <td>N/A</td>\n",
       "      <td>1</td>\n",
       "      <td>Quantitative Analyst</td>\n",
       "      <td>06/19</td>\n",
       "      <td>05/23</td>\n",
       "      <td>Machine Learning Engineer</td>\n",
       "      <td>08/18</td>\n",
       "      <td>11/19</td>\n",
       "      <td>Quantitative Analyst</td>\n",
       "      <td>03/15</td>\n",
       "      <td>10/18</td>\n",
       "    </tr>\n",
       "    <tr>\n",
       "      <th>2999</th>\n",
       "      <td>2999</td>\n",
       "      <td>Northeastern University</td>\n",
       "      <td>2.94</td>\n",
       "      <td>Bachelors</td>\n",
       "      <td>Los Angeles</td>\n",
       "      <td>F</td>\n",
       "      <td>0</td>\n",
       "      <td>1</td>\n",
       "      <td>N/A</td>\n",
       "      <td>0</td>\n",
       "      <td>Hardware Engineer</td>\n",
       "      <td>07/20</td>\n",
       "      <td>09/21</td>\n",
       "      <td>Data Scientist</td>\n",
       "      <td>08/18</td>\n",
       "      <td>11/19</td>\n",
       "      <td>Software Engineer</td>\n",
       "      <td>09/15</td>\n",
       "      <td>06/17</td>\n",
       "    </tr>\n",
       "  </tbody>\n",
       "</table>\n",
       "<p>3000 rows × 19 columns</p>\n",
       "</div>"
      ]
     },
     "execution_count": 51,
     "metadata": {},
     "output_type": "execute_result"
    }
   ],
   "execution_count": 51
  },
  {
   "metadata": {},
   "cell_type": "markdown",
   "source": "### Modify the generated data to add bias into data",
   "id": "f99df5922f87a22c"
  },
  {
   "metadata": {
    "ExecuteTime": {
     "end_time": "2024-05-04T04:07:10.484020Z",
     "start_time": "2024-05-04T04:07:10.461634Z"
    }
   },
   "cell_type": "code",
   "source": [
    "original = pd.read_csv(\"resume_without_bias/resume.csv\")\n",
    "\n",
    "for col in original.columns:\n",
    "    if original[col].dtype != 'object':\n",
    "        original[col] = original[col].astype('object')\n",
    "original.fillna(\"N/A\", inplace=True)\n",
    "original"
   ],
   "id": "86739c5c5a63112c",
   "outputs": [
    {
     "data": {
      "text/plain": [
       "     Applicant ID                 School Name   GPA     Degree       Location  \\\n",
       "0               0  University of Rhode Island  2.34  Bachelors      Las Vegas   \n",
       "1               1           Bryant University  3.71        PhD  San Francisco   \n",
       "2               2            Brown University  3.06    Masters       New York   \n",
       "3               3  University of Rhode Island  1.04  Bachelors        Chicago   \n",
       "4               4  University of Rhode Island  1.35    Masters   Philadelphia   \n",
       "...           ...                         ...   ...        ...            ...   \n",
       "2995         2995    State Providence College   3.9    Masters         Boston   \n",
       "2996         2996           Boston University  2.65  Bachelors   Philadelphia   \n",
       "2997         2997         Columbia University  3.75        PhD   Philadelphia   \n",
       "2998         2998           Providence School  1.77  Bachelors      Las Vegas   \n",
       "2999         2999     Northeastern University  2.94  Bachelors    Los Angeles   \n",
       "\n",
       "     Gender Veteran status Work authorization Disability Ethnicity  \\\n",
       "0       N/A            1.0                  1        1.0         4   \n",
       "1         M            N/A                  0        N/A         0   \n",
       "2       N/A            0.0                  0        N/A         1   \n",
       "3         M            1.0                  1        N/A         0   \n",
       "4       N/A            1.0                  0        0.0         0   \n",
       "...     ...            ...                ...        ...       ...   \n",
       "2995      M            0.0                  1        0.0         1   \n",
       "2996      M            N/A                  0        0.0         2   \n",
       "2997    N/A            1.0                  0        1.0         1   \n",
       "2998      M            1.0                  0        N/A         1   \n",
       "2999      F            0.0                  1        N/A         0   \n",
       "\n",
       "                         Role 1 Start 1  End 1                     Role 2  \\\n",
       "0          Quantitative Analyst   06/19  11/22  Machine Learning Engineer   \n",
       "1               Software Tester   04/19  03/23          Hardware Engineer   \n",
       "2             Hardware Engineer   10/20  05/22          Software Engineer   \n",
       "3                Data Scientist   04/20  11/23            Software Tester   \n",
       "4            Research Scientist   05/20  10/22             Data Scientist   \n",
       "...                         ...     ...    ...                        ...   \n",
       "2995  Machine Learning Engineer   06/19  02/22          Software Engineer   \n",
       "2996  Machine Learning Engineer   03/19  10/21          Hardware Engineer   \n",
       "2997          Software Engineer   05/19  11/21          Software Engineer   \n",
       "2998       Quantitative Analyst   06/19  05/23  Machine Learning Engineer   \n",
       "2999          Hardware Engineer   07/20  09/21             Data Scientist   \n",
       "\n",
       "     Start 2  End 2                Role 3 Start 3  End 3  \n",
       "0      10/17  02/21     Hardware Engineer   03/15  10/19  \n",
       "1      05/17  05/20        Data Scientist   12/13  06/17  \n",
       "2      04/17  04/21    Research Scientist   07/14  06/18  \n",
       "3      07/18  06/20        Data Scientist   04/15  06/19  \n",
       "4      05/18  06/21    Research Scientist   04/15  05/18  \n",
       "...      ...    ...                   ...     ...    ...  \n",
       "2995   04/18  08/19     Hardware Engineer   06/16  04/19  \n",
       "2996   03/18  12/20        Data Scientist   10/15  03/17  \n",
       "2997   03/18  09/20       Software Tester   11/15  10/19  \n",
       "2998   08/18  11/19  Quantitative Analyst   03/15  10/18  \n",
       "2999   08/18  11/19     Software Engineer   09/15  06/17  \n",
       "\n",
       "[3000 rows x 19 columns]"
      ],
      "text/html": [
       "<div>\n",
       "<style scoped>\n",
       "    .dataframe tbody tr th:only-of-type {\n",
       "        vertical-align: middle;\n",
       "    }\n",
       "\n",
       "    .dataframe tbody tr th {\n",
       "        vertical-align: top;\n",
       "    }\n",
       "\n",
       "    .dataframe thead th {\n",
       "        text-align: right;\n",
       "    }\n",
       "</style>\n",
       "<table border=\"1\" class=\"dataframe\">\n",
       "  <thead>\n",
       "    <tr style=\"text-align: right;\">\n",
       "      <th></th>\n",
       "      <th>Applicant ID</th>\n",
       "      <th>School Name</th>\n",
       "      <th>GPA</th>\n",
       "      <th>Degree</th>\n",
       "      <th>Location</th>\n",
       "      <th>Gender</th>\n",
       "      <th>Veteran status</th>\n",
       "      <th>Work authorization</th>\n",
       "      <th>Disability</th>\n",
       "      <th>Ethnicity</th>\n",
       "      <th>Role 1</th>\n",
       "      <th>Start 1</th>\n",
       "      <th>End 1</th>\n",
       "      <th>Role 2</th>\n",
       "      <th>Start 2</th>\n",
       "      <th>End 2</th>\n",
       "      <th>Role 3</th>\n",
       "      <th>Start 3</th>\n",
       "      <th>End 3</th>\n",
       "    </tr>\n",
       "  </thead>\n",
       "  <tbody>\n",
       "    <tr>\n",
       "      <th>0</th>\n",
       "      <td>0</td>\n",
       "      <td>University of Rhode Island</td>\n",
       "      <td>2.34</td>\n",
       "      <td>Bachelors</td>\n",
       "      <td>Las Vegas</td>\n",
       "      <td>N/A</td>\n",
       "      <td>1.0</td>\n",
       "      <td>1</td>\n",
       "      <td>1.0</td>\n",
       "      <td>4</td>\n",
       "      <td>Quantitative Analyst</td>\n",
       "      <td>06/19</td>\n",
       "      <td>11/22</td>\n",
       "      <td>Machine Learning Engineer</td>\n",
       "      <td>10/17</td>\n",
       "      <td>02/21</td>\n",
       "      <td>Hardware Engineer</td>\n",
       "      <td>03/15</td>\n",
       "      <td>10/19</td>\n",
       "    </tr>\n",
       "    <tr>\n",
       "      <th>1</th>\n",
       "      <td>1</td>\n",
       "      <td>Bryant University</td>\n",
       "      <td>3.71</td>\n",
       "      <td>PhD</td>\n",
       "      <td>San Francisco</td>\n",
       "      <td>M</td>\n",
       "      <td>N/A</td>\n",
       "      <td>0</td>\n",
       "      <td>N/A</td>\n",
       "      <td>0</td>\n",
       "      <td>Software Tester</td>\n",
       "      <td>04/19</td>\n",
       "      <td>03/23</td>\n",
       "      <td>Hardware Engineer</td>\n",
       "      <td>05/17</td>\n",
       "      <td>05/20</td>\n",
       "      <td>Data Scientist</td>\n",
       "      <td>12/13</td>\n",
       "      <td>06/17</td>\n",
       "    </tr>\n",
       "    <tr>\n",
       "      <th>2</th>\n",
       "      <td>2</td>\n",
       "      <td>Brown University</td>\n",
       "      <td>3.06</td>\n",
       "      <td>Masters</td>\n",
       "      <td>New York</td>\n",
       "      <td>N/A</td>\n",
       "      <td>0.0</td>\n",
       "      <td>0</td>\n",
       "      <td>N/A</td>\n",
       "      <td>1</td>\n",
       "      <td>Hardware Engineer</td>\n",
       "      <td>10/20</td>\n",
       "      <td>05/22</td>\n",
       "      <td>Software Engineer</td>\n",
       "      <td>04/17</td>\n",
       "      <td>04/21</td>\n",
       "      <td>Research Scientist</td>\n",
       "      <td>07/14</td>\n",
       "      <td>06/18</td>\n",
       "    </tr>\n",
       "    <tr>\n",
       "      <th>3</th>\n",
       "      <td>3</td>\n",
       "      <td>University of Rhode Island</td>\n",
       "      <td>1.04</td>\n",
       "      <td>Bachelors</td>\n",
       "      <td>Chicago</td>\n",
       "      <td>M</td>\n",
       "      <td>1.0</td>\n",
       "      <td>1</td>\n",
       "      <td>N/A</td>\n",
       "      <td>0</td>\n",
       "      <td>Data Scientist</td>\n",
       "      <td>04/20</td>\n",
       "      <td>11/23</td>\n",
       "      <td>Software Tester</td>\n",
       "      <td>07/18</td>\n",
       "      <td>06/20</td>\n",
       "      <td>Data Scientist</td>\n",
       "      <td>04/15</td>\n",
       "      <td>06/19</td>\n",
       "    </tr>\n",
       "    <tr>\n",
       "      <th>4</th>\n",
       "      <td>4</td>\n",
       "      <td>University of Rhode Island</td>\n",
       "      <td>1.35</td>\n",
       "      <td>Masters</td>\n",
       "      <td>Philadelphia</td>\n",
       "      <td>N/A</td>\n",
       "      <td>1.0</td>\n",
       "      <td>0</td>\n",
       "      <td>0.0</td>\n",
       "      <td>0</td>\n",
       "      <td>Research Scientist</td>\n",
       "      <td>05/20</td>\n",
       "      <td>10/22</td>\n",
       "      <td>Data Scientist</td>\n",
       "      <td>05/18</td>\n",
       "      <td>06/21</td>\n",
       "      <td>Research Scientist</td>\n",
       "      <td>04/15</td>\n",
       "      <td>05/18</td>\n",
       "    </tr>\n",
       "    <tr>\n",
       "      <th>...</th>\n",
       "      <td>...</td>\n",
       "      <td>...</td>\n",
       "      <td>...</td>\n",
       "      <td>...</td>\n",
       "      <td>...</td>\n",
       "      <td>...</td>\n",
       "      <td>...</td>\n",
       "      <td>...</td>\n",
       "      <td>...</td>\n",
       "      <td>...</td>\n",
       "      <td>...</td>\n",
       "      <td>...</td>\n",
       "      <td>...</td>\n",
       "      <td>...</td>\n",
       "      <td>...</td>\n",
       "      <td>...</td>\n",
       "      <td>...</td>\n",
       "      <td>...</td>\n",
       "      <td>...</td>\n",
       "    </tr>\n",
       "    <tr>\n",
       "      <th>2995</th>\n",
       "      <td>2995</td>\n",
       "      <td>State Providence College</td>\n",
       "      <td>3.9</td>\n",
       "      <td>Masters</td>\n",
       "      <td>Boston</td>\n",
       "      <td>M</td>\n",
       "      <td>0.0</td>\n",
       "      <td>1</td>\n",
       "      <td>0.0</td>\n",
       "      <td>1</td>\n",
       "      <td>Machine Learning Engineer</td>\n",
       "      <td>06/19</td>\n",
       "      <td>02/22</td>\n",
       "      <td>Software Engineer</td>\n",
       "      <td>04/18</td>\n",
       "      <td>08/19</td>\n",
       "      <td>Hardware Engineer</td>\n",
       "      <td>06/16</td>\n",
       "      <td>04/19</td>\n",
       "    </tr>\n",
       "    <tr>\n",
       "      <th>2996</th>\n",
       "      <td>2996</td>\n",
       "      <td>Boston University</td>\n",
       "      <td>2.65</td>\n",
       "      <td>Bachelors</td>\n",
       "      <td>Philadelphia</td>\n",
       "      <td>M</td>\n",
       "      <td>N/A</td>\n",
       "      <td>0</td>\n",
       "      <td>0.0</td>\n",
       "      <td>2</td>\n",
       "      <td>Machine Learning Engineer</td>\n",
       "      <td>03/19</td>\n",
       "      <td>10/21</td>\n",
       "      <td>Hardware Engineer</td>\n",
       "      <td>03/18</td>\n",
       "      <td>12/20</td>\n",
       "      <td>Data Scientist</td>\n",
       "      <td>10/15</td>\n",
       "      <td>03/17</td>\n",
       "    </tr>\n",
       "    <tr>\n",
       "      <th>2997</th>\n",
       "      <td>2997</td>\n",
       "      <td>Columbia University</td>\n",
       "      <td>3.75</td>\n",
       "      <td>PhD</td>\n",
       "      <td>Philadelphia</td>\n",
       "      <td>N/A</td>\n",
       "      <td>1.0</td>\n",
       "      <td>0</td>\n",
       "      <td>1.0</td>\n",
       "      <td>1</td>\n",
       "      <td>Software Engineer</td>\n",
       "      <td>05/19</td>\n",
       "      <td>11/21</td>\n",
       "      <td>Software Engineer</td>\n",
       "      <td>03/18</td>\n",
       "      <td>09/20</td>\n",
       "      <td>Software Tester</td>\n",
       "      <td>11/15</td>\n",
       "      <td>10/19</td>\n",
       "    </tr>\n",
       "    <tr>\n",
       "      <th>2998</th>\n",
       "      <td>2998</td>\n",
       "      <td>Providence School</td>\n",
       "      <td>1.77</td>\n",
       "      <td>Bachelors</td>\n",
       "      <td>Las Vegas</td>\n",
       "      <td>M</td>\n",
       "      <td>1.0</td>\n",
       "      <td>0</td>\n",
       "      <td>N/A</td>\n",
       "      <td>1</td>\n",
       "      <td>Quantitative Analyst</td>\n",
       "      <td>06/19</td>\n",
       "      <td>05/23</td>\n",
       "      <td>Machine Learning Engineer</td>\n",
       "      <td>08/18</td>\n",
       "      <td>11/19</td>\n",
       "      <td>Quantitative Analyst</td>\n",
       "      <td>03/15</td>\n",
       "      <td>10/18</td>\n",
       "    </tr>\n",
       "    <tr>\n",
       "      <th>2999</th>\n",
       "      <td>2999</td>\n",
       "      <td>Northeastern University</td>\n",
       "      <td>2.94</td>\n",
       "      <td>Bachelors</td>\n",
       "      <td>Los Angeles</td>\n",
       "      <td>F</td>\n",
       "      <td>0.0</td>\n",
       "      <td>1</td>\n",
       "      <td>N/A</td>\n",
       "      <td>0</td>\n",
       "      <td>Hardware Engineer</td>\n",
       "      <td>07/20</td>\n",
       "      <td>09/21</td>\n",
       "      <td>Data Scientist</td>\n",
       "      <td>08/18</td>\n",
       "      <td>11/19</td>\n",
       "      <td>Software Engineer</td>\n",
       "      <td>09/15</td>\n",
       "      <td>06/17</td>\n",
       "    </tr>\n",
       "  </tbody>\n",
       "</table>\n",
       "<p>3000 rows × 19 columns</p>\n",
       "</div>"
      ]
     },
     "execution_count": 53,
     "metadata": {},
     "output_type": "execute_result"
    }
   ],
   "execution_count": 53
  },
  {
   "metadata": {},
   "cell_type": "markdown",
   "source": "### Does the Resume-Scorer prefer applicants of certain gender?",
   "id": "64b5ddff0936ac43"
  },
  {
   "metadata": {
    "ExecuteTime": {
     "end_time": "2024-05-04T04:07:18.767170Z",
     "start_time": "2024-05-04T04:07:18.761001Z"
    }
   },
   "cell_type": "code",
   "source": "original[\"Gender\"].value_counts()",
   "id": "4ef46196cea04189",
   "outputs": [
    {
     "data": {
      "text/plain": [
       "Gender\n",
       "F      1042\n",
       "N/A     993\n",
       "M       965\n",
       "Name: count, dtype: int64"
      ]
     },
     "execution_count": 54,
     "metadata": {},
     "output_type": "execute_result"
    }
   ],
   "execution_count": 54
  },
  {
   "cell_type": "code",
   "id": "002457a8-3aa7-4676-a91b-1ea2daef780f",
   "metadata": {
    "ExecuteTime": {
     "end_time": "2024-05-04T04:11:01.949734Z",
     "start_time": "2024-05-04T04:11:01.929911Z"
    }
   },
   "source": [
    "# Modify original to make 90% of individuals male\n",
    "np.random.seed(1951)\n",
    "non_male_indices = list(original[original[\"Gender\"] != \"M\"].index)\n",
    "indices_to_modify = np.random.choice(non_male_indices, 1735, replace=False)\n",
    "\n",
    "male_bias = original.copy()\n",
    "male_bias.loc[indices_to_modify, \"Gender\"] = \"M\"\n",
    "\n",
    "print(male_bias[\"Gender\"].value_counts())\n",
    "male_bias.to_csv(\"resume_with_bias/gender_bias/male.csv\", index=False)"
   ],
   "outputs": [
    {
     "name": "stdout",
     "output_type": "stream",
     "text": [
      "Gender\n",
      "M      2700\n",
      "N/A     151\n",
      "F       149\n",
      "Name: count, dtype: int64\n"
     ]
    }
   ],
   "execution_count": 66
  },
  {
   "cell_type": "code",
   "id": "8c3ed4a0-d84e-40ac-ab16-46d90ad351f6",
   "metadata": {
    "ExecuteTime": {
     "end_time": "2024-05-04T04:12:00.537881Z",
     "start_time": "2024-05-04T04:12:00.517687Z"
    }
   },
   "source": [
    "# Modify original to make 90% of individuals female\n",
    "np.random.seed(1951)\n",
    "non_female_indices = list(original[original[\"Gender\"] != \"F\"].index)\n",
    "indices_to_modify = np.random.choice(non_female_indices, 1658, replace=False)\n",
    "\n",
    "female_bias = original.copy()\n",
    "female_bias.loc[indices_to_modify, \"Gender\"] = \"F\"\n",
    "\n",
    "print(female_bias[\"Gender\"].value_counts())\n",
    "female_bias.to_csv(\"resume_with_bias/gender_bias/female.csv\", index=False)"
   ],
   "outputs": [
    {
     "name": "stdout",
     "output_type": "stream",
     "text": [
      "Gender\n",
      "F      2700\n",
      "M       151\n",
      "N/A     149\n",
      "Name: count, dtype: int64\n"
     ]
    }
   ],
   "execution_count": 69
  },
  {
   "metadata": {
    "ExecuteTime": {
     "end_time": "2024-05-04T04:12:55.692849Z",
     "start_time": "2024-05-04T04:12:55.673957Z"
    }
   },
   "cell_type": "code",
   "source": [
    "# Modify original to make 90% of individuals not declaring gender\n",
    "np.random.seed(1951)\n",
    "nan_indices = list(original[original[\"Gender\"] != \"N/A\"].index)\n",
    "indices_to_modify = np.random.choice(nan_indices, 1707, replace=False)\n",
    "\n",
    "nan_bias = original.copy()\n",
    "nan_bias.loc[indices_to_modify, \"Gender\"] = \"N/A\"\n",
    "\n",
    "print(nan_bias[\"Gender\"].value_counts())\n",
    "nan_bias.to_csv(\"resume_with_bias/gender_bias/na.csv\", index=False)"
   ],
   "id": "adfff52e61d653df",
   "outputs": [
    {
     "name": "stdout",
     "output_type": "stream",
     "text": [
      "Gender\n",
      "N/A    2700\n",
      "F       159\n",
      "M       141\n",
      "Name: count, dtype: int64\n"
     ]
    }
   ],
   "execution_count": 73
  },
  {
   "metadata": {},
   "cell_type": "markdown",
   "source": "### Does the Resume-Scorer prefer applicants who do not need work authorization?",
   "id": "ea6e1e02301ecb09"
  },
  {
   "metadata": {
    "ExecuteTime": {
     "end_time": "2024-05-04T04:13:04.505798Z",
     "start_time": "2024-05-04T04:13:04.501078Z"
    }
   },
   "cell_type": "code",
   "source": "original[\"Work authorization\"].value_counts()",
   "id": "80b5e109f1d9ebcc",
   "outputs": [
    {
     "data": {
      "text/plain": [
       "Work authorization\n",
       "0    1537\n",
       "1    1463\n",
       "Name: count, dtype: int64"
      ]
     },
     "execution_count": 76,
     "metadata": {},
     "output_type": "execute_result"
    }
   ],
   "execution_count": 76
  },
  {
   "metadata": {
    "ExecuteTime": {
     "end_time": "2024-05-04T04:14:28.155773Z",
     "start_time": "2024-05-04T04:14:28.135616Z"
    }
   },
   "cell_type": "code",
   "source": [
    "# Modify original to make 90% of applicants require work authorization\n",
    "np.random.seed(1951)\n",
    "work_1_indices = list(original[original[\"Work authorization\"] != 1].index)\n",
    "indices_to_modify = np.random.choice(work_1_indices, 1237, replace=False)\n",
    "\n",
    "work_1_bias = original.copy()\n",
    "work_1_bias.loc[indices_to_modify, \"Work authorization\"] = 1\n",
    "\n",
    "print(work_1_bias[\"Work authorization\"].value_counts())\n",
    "work_1_bias.to_csv(\"resume_with_bias/authorization_bias/auth_1.csv\", index=False)"
   ],
   "id": "bd2e16d5b4f64300",
   "outputs": [
    {
     "name": "stdout",
     "output_type": "stream",
     "text": [
      "Work authorization\n",
      "1    2700\n",
      "0     300\n",
      "Name: count, dtype: int64\n"
     ]
    }
   ],
   "execution_count": 77
  },
  {
   "metadata": {
    "ExecuteTime": {
     "end_time": "2024-05-04T04:14:31.157359Z",
     "start_time": "2024-05-04T04:14:31.137277Z"
    }
   },
   "cell_type": "code",
   "source": [
    "# Modify original to make 90% of applicants not require work authorization\n",
    "np.random.seed(1951)\n",
    "work_0_indices = list(original[original[\"Work authorization\"] != 0].index)\n",
    "indices_to_modify = np.random.choice(work_0_indices, 1163, replace=False)\n",
    "\n",
    "work_0_bias = original.copy()\n",
    "work_0_bias.loc[indices_to_modify, \"Work authorization\"] = 0\n",
    "\n",
    "print(work_0_bias[\"Work authorization\"].value_counts())\n",
    "work_0_bias.to_csv(\"resume_with_bias/authorization_bias/auth_0.csv\", index=False)"
   ],
   "id": "fb21b0b0ad045f5c",
   "outputs": [
    {
     "name": "stdout",
     "output_type": "stream",
     "text": [
      "Work authorization\n",
      "0    2700\n",
      "1     300\n",
      "Name: count, dtype: int64\n"
     ]
    }
   ],
   "execution_count": 78
  },
  {
   "metadata": {},
   "cell_type": "markdown",
   "source": "### Does the Resume-Scorer prefer applicants in certain ethnicity groups?",
   "id": "90244fa15675c315"
  },
  {
   "metadata": {
    "ExecuteTime": {
     "end_time": "2024-05-04T07:45:27.743106Z",
     "start_time": "2024-05-04T07:45:27.739072Z"
    }
   },
   "cell_type": "code",
   "source": "original[\"Ethnicity\"].value_counts()",
   "id": "f27e647b40dd71fe",
   "outputs": [
    {
     "data": {
      "text/plain": [
       "Ethnicity\n",
       "1    623\n",
       "2    622\n",
       "3    596\n",
       "4    592\n",
       "0    567\n",
       "Name: count, dtype: int64"
      ]
     },
     "execution_count": 82,
     "metadata": {},
     "output_type": "execute_result"
    }
   ],
   "execution_count": 82
  },
  {
   "metadata": {
    "ExecuteTime": {
     "end_time": "2024-05-04T07:46:54.800194Z",
     "start_time": "2024-05-04T07:46:54.780118Z"
    }
   },
   "cell_type": "code",
   "source": [
    "# Modify original to make 90% of applicants White\n",
    "np.random.seed(1951)\n",
    "eth_0_indices = list(original[original[\"Ethnicity\"] != 0].index)\n",
    "indices_to_modify = np.random.choice(eth_0_indices, 2133, replace=False)\n",
    "eth_0_bias = original.copy()\n",
    "eth_0_bias.loc[indices_to_modify, \"Ethnicity\"] = 0\n",
    "\n",
    "print(eth_0_bias[\"Ethnicity\"].value_counts())\n",
    "eth_0_bias.to_csv(\"resume_with_bias/ethnicity_bias/eth_0.csv\", index=False)"
   ],
   "id": "ded92c281d61f2f8",
   "outputs": [
    {
     "name": "stdout",
     "output_type": "stream",
     "text": [
      "Ethnicity\n",
      "0    2700\n",
      "3      97\n",
      "4      75\n",
      "1      74\n",
      "2      54\n",
      "Name: count, dtype: int64\n"
     ]
    }
   ],
   "execution_count": 85
  },
  {
   "metadata": {},
   "cell_type": "markdown",
   "source": "",
   "id": "bbee7d828c49c0cf"
  },
  {
   "metadata": {
    "ExecuteTime": {
     "end_time": "2024-05-04T07:49:24.524697Z",
     "start_time": "2024-05-04T07:49:24.506117Z"
    }
   },
   "cell_type": "code",
   "source": [
    "# Modify original to make 90% of applicants Black\n",
    "np.random.seed(1951)\n",
    "eth_1_indices = list(original[original[\"Ethnicity\"] != 1].index)\n",
    "indices_to_modify = np.random.choice(eth_1_indices, 2077, replace=False)\n",
    "eth_1_bias = original.copy()\n",
    "eth_1_bias.loc[indices_to_modify, \"Ethnicity\"] = 1\n",
    "\n",
    "print(eth_1_bias[\"Ethnicity\"].value_counts())\n",
    "eth_1_bias.to_csv(\"resume_with_bias/ethnicity_bias/eth_1.csv\", index=False)"
   ],
   "id": "3bf3748947ed339",
   "outputs": [
    {
     "name": "stdout",
     "output_type": "stream",
     "text": [
      "Ethnicity\n",
      "1    2700\n",
      "4      83\n",
      "2      81\n",
      "3      70\n",
      "0      66\n",
      "Name: count, dtype: int64\n"
     ]
    }
   ],
   "execution_count": 86
  },
  {
   "metadata": {
    "ExecuteTime": {
     "end_time": "2024-05-04T07:50:58.336777Z",
     "start_time": "2024-05-04T07:50:58.316378Z"
    }
   },
   "cell_type": "code",
   "source": [
    "# Modify original to make 90% of applicants Native American\n",
    "np.random.seed(1951)\n",
    "eth_2_indices = list(original[original[\"Ethnicity\"] != 2].index)\n",
    "indices_to_modify = np.random.choice(eth_2_indices, 2078, replace=False)\n",
    "eth_2_bias = original.copy()\n",
    "eth_2_bias.loc[indices_to_modify, \"Ethnicity\"] = 2\n",
    "\n",
    "print(eth_2_bias[\"Ethnicity\"].value_counts())\n",
    "eth_2_bias.to_csv(\"resume_with_bias/ethnicity_bias/eth_2.csv\", index=False)"
   ],
   "id": "ff1f19fb5971f975",
   "outputs": [
    {
     "name": "stdout",
     "output_type": "stream",
     "text": [
      "Ethnicity\n",
      "2    2700\n",
      "3      85\n",
      "4      80\n",
      "1      76\n",
      "0      59\n",
      "Name: count, dtype: int64\n"
     ]
    }
   ],
   "execution_count": 87
  },
  {
   "metadata": {
    "ExecuteTime": {
     "end_time": "2024-05-04T07:52:48.722271Z",
     "start_time": "2024-05-04T07:52:48.701646Z"
    }
   },
   "cell_type": "code",
   "source": [
    "# Modify original to make 90% of applicants Asian American & Pacific Islander\n",
    "np.random.seed(1951)\n",
    "eth_3_indices = list(original[original[\"Ethnicity\"] != 3].index)\n",
    "indices_to_modify = np.random.choice(eth_3_indices, 2104, replace=False)\n",
    "eth_3_bias = original.copy()\n",
    "eth_3_bias.loc[indices_to_modify, \"Ethnicity\"] = 3\n",
    "\n",
    "print(eth_3_bias[\"Ethnicity\"].value_counts())\n",
    "eth_3_bias.to_csv(\"resume_with_bias/ethnicity_bias/eth_3.csv\", index=False)"
   ],
   "id": "67a5e832f8c7f93b",
   "outputs": [
    {
     "name": "stdout",
     "output_type": "stream",
     "text": [
      "Ethnicity\n",
      "3    2700\n",
      "1      77\n",
      "4      77\n",
      "2      76\n",
      "0      70\n",
      "Name: count, dtype: int64\n"
     ]
    }
   ],
   "execution_count": 88
  },
  {
   "metadata": {
    "ExecuteTime": {
     "end_time": "2024-05-04T07:54:19.579846Z",
     "start_time": "2024-05-04T07:54:19.558486Z"
    }
   },
   "cell_type": "code",
   "source": [
    "# Modify original to make 90% applicants with ethnicity \"Other\"\n",
    "np.random.seed(1951)\n",
    "eth_4_indices = list(original[original[\"Ethnicity\"] != 4].index)\n",
    "indices_to_modify = np.random.choice(eth_4_indices, 2108, replace=False)\n",
    "eth_4_bias = original.copy()\n",
    "eth_4_bias.loc[indices_to_modify, \"Ethnicity\"] = 4\n",
    "\n",
    "print(eth_4_bias[\"Ethnicity\"].value_counts())\n",
    "eth_4_bias.to_csv(\"resume_with_bias/ethnicity_bias/eth_4.csv\", index=False)"
   ],
   "id": "788ae8bfd6bc0a95",
   "outputs": [
    {
     "name": "stdout",
     "output_type": "stream",
     "text": [
      "Ethnicity\n",
      "4    2700\n",
      "1      79\n",
      "2      77\n",
      "3      72\n",
      "0      72\n",
      "Name: count, dtype: int64\n"
     ]
    }
   ],
   "execution_count": 89
  },
  {
   "metadata": {},
   "cell_type": "markdown",
   "source": "### Uneven Distribution in Veteran Status",
   "id": "e2d51713b6c9a1ec"
  },
  {
   "metadata": {
    "ExecuteTime": {
     "end_time": "2024-05-08T01:00:05.107179Z",
     "start_time": "2024-05-08T01:00:05.100479Z"
    }
   },
   "cell_type": "code",
   "source": "original[\"Veteran status\"].value_counts()",
   "id": "28ea6e74e7978d49",
   "outputs": [
    {
     "data": {
      "text/plain": [
       "Veteran status\n",
       "N/A    1066\n",
       "0.0     971\n",
       "1.0     963\n",
       "Name: count, dtype: int64"
      ]
     },
     "execution_count": 95,
     "metadata": {},
     "output_type": "execute_result"
    }
   ],
   "execution_count": 95
  },
  {
   "metadata": {
    "ExecuteTime": {
     "end_time": "2024-05-08T01:00:09.081078Z",
     "start_time": "2024-05-08T01:00:09.063153Z"
    }
   },
   "cell_type": "code",
   "source": [
    "# Modify original to make 90% applicants veterans\n",
    "np.random.seed(1951)\n",
    "no_vet_indices = list(original[original[\"Veteran status\"] != 1].index)\n",
    "indices_to_modify = np.random.choice(no_vet_indices, 1737, replace=False)\n",
    "vet_bias = original.copy()\n",
    "vet_bias.loc[indices_to_modify, \"Veteran status\"] = 1\n",
    "\n",
    "print(vet_bias[\"Veteran status\"].value_counts())\n",
    "vet_bias.to_csv(\"resume_with_bias/veteran_bias/vet_1.csv\", index=False)"
   ],
   "id": "75fc61bf3825ee8b",
   "outputs": [
    {
     "name": "stdout",
     "output_type": "stream",
     "text": [
      "Veteran status\n",
      "1.0    2700\n",
      "N/A     156\n",
      "0.0     144\n",
      "Name: count, dtype: int64\n"
     ]
    }
   ],
   "execution_count": 96
  },
  {
   "metadata": {
    "ExecuteTime": {
     "end_time": "2024-05-08T01:00:13.487787Z",
     "start_time": "2024-05-08T01:00:13.466207Z"
    }
   },
   "cell_type": "code",
   "source": [
    "# Modify original to make 90% applicants non-veterans\n",
    "np.random.seed(1951)\n",
    "vet_indices = list(original[original[\"Veteran status\"] != 0].index)\n",
    "indices_to_modify = np.random.choice(vet_indices, 1729, replace=False)\n",
    "nvet_bias = original.copy()\n",
    "nvet_bias.loc[indices_to_modify, \"Veteran status\"] = 0\n",
    "\n",
    "print(nvet_bias[\"Veteran status\"].value_counts())\n",
    "nvet_bias.to_csv(\"resume_with_bias/veteran_bias/vet_0.csv\", index=False)"
   ],
   "id": "517214aca3b731a4",
   "outputs": [
    {
     "name": "stdout",
     "output_type": "stream",
     "text": [
      "Veteran status\n",
      "0      2700\n",
      "N/A     171\n",
      "1.0     129\n",
      "Name: count, dtype: int64\n"
     ]
    }
   ],
   "execution_count": 97
  },
  {
   "metadata": {
    "ExecuteTime": {
     "end_time": "2024-05-08T01:01:00.469740Z",
     "start_time": "2024-05-08T01:01:00.448475Z"
    }
   },
   "cell_type": "code",
   "source": [
    "# Modify original to make 90% applicants not providing veteran status information\n",
    "np.random.seed(1951)\n",
    "na_indices = list(original[original[\"Veteran status\"] != \"N/A\"].index)\n",
    "indices_to_modify = np.random.choice(na_indices, 1634, replace=False)\n",
    "na_vet_bias = original.copy()\n",
    "na_vet_bias.loc[indices_to_modify, \"Veteran status\"] = \"N/A\"\n",
    "\n",
    "print(na_vet_bias[\"Veteran status\"].value_counts())\n",
    "na_vet_bias.to_csv(\"resume_with_bias/veteran_bias/vet_na.csv\", index=False)"
   ],
   "id": "28a3fa9f8aa8ed7a",
   "outputs": [
    {
     "name": "stdout",
     "output_type": "stream",
     "text": [
      "Veteran status\n",
      "N/A    2700\n",
      "1.0     171\n",
      "0.0     129\n",
      "Name: count, dtype: int64\n"
     ]
    }
   ],
   "execution_count": 98
  },
  {
   "metadata": {},
   "cell_type": "markdown",
   "source": "### Make Disability Status Distribution Uneven",
   "id": "144defcb53832abe"
  },
  {
   "metadata": {
    "ExecuteTime": {
     "end_time": "2024-05-08T01:04:10.446746Z",
     "start_time": "2024-05-08T01:04:10.441552Z"
    }
   },
   "cell_type": "code",
   "source": "original[\"Disability\"].value_counts()",
   "id": "ed027b36c01c92d0",
   "outputs": [
    {
     "data": {
      "text/plain": [
       "Disability\n",
       "N/A    1030\n",
       "0.0    1004\n",
       "1.0     966\n",
       "Name: count, dtype: int64"
      ]
     },
     "execution_count": 99,
     "metadata": {},
     "output_type": "execute_result"
    }
   ],
   "execution_count": 99
  },
  {
   "metadata": {
    "ExecuteTime": {
     "end_time": "2024-05-08T01:05:46.829088Z",
     "start_time": "2024-05-08T01:05:46.808891Z"
    }
   },
   "cell_type": "code",
   "source": [
    "# Modify original to make 90% of applicants have disability\n",
    "np.random.seed(1951)\n",
    "dis_indices = list(original[original[\"Disability\"] != 1].index)\n",
    "indices_to_modify = np.random.choice(dis_indices, 1734, replace=False)\n",
    "dis_bias = original.copy()\n",
    "dis_bias.loc[indices_to_modify, \"Disability\"] = 1\n",
    "\n",
    "print(dis_bias[\"Disability\"].value_counts())\n",
    "dis_bias.to_csv(\"resume_with_bias/disability_bias/dis_1.csv\", index=False)"
   ],
   "id": "f5e61765ab911a82",
   "outputs": [
    {
     "name": "stdout",
     "output_type": "stream",
     "text": [
      "Disability\n",
      "1.0    2700\n",
      "N/A     150\n",
      "0.0     150\n",
      "Name: count, dtype: int64\n"
     ]
    }
   ],
   "execution_count": 100
  },
  {
   "metadata": {
    "ExecuteTime": {
     "end_time": "2024-05-08T01:07:19.064942Z",
     "start_time": "2024-05-08T01:07:19.044580Z"
    }
   },
   "cell_type": "code",
   "source": [
    "# Modify original to make 90% of applicants not have disability\n",
    "np.random.seed(1951)\n",
    "ndis_indices = list(original[original[\"Disability\"] != 0].index)\n",
    "indices_to_modify = np.random.choice(ndis_indices, 1696, replace=False)\n",
    "ndis_bias = original.copy()\n",
    "ndis_bias.loc[indices_to_modify, \"Disability\"] = 0\n",
    "\n",
    "print(ndis_bias[\"Disability\"].value_counts())\n",
    "ndis_bias.to_csv(\"resume_with_bias/disability_bias/dis_0.csv\", index=False)"
   ],
   "id": "ab94f581228c52ec",
   "outputs": [
    {
     "name": "stdout",
     "output_type": "stream",
     "text": [
      "Disability\n",
      "0      2700\n",
      "N/A     162\n",
      "1.0     138\n",
      "Name: count, dtype: int64\n"
     ]
    }
   ],
   "execution_count": 101
  },
  {
   "metadata": {
    "ExecuteTime": {
     "end_time": "2024-05-08T01:08:44.324580Z",
     "start_time": "2024-05-08T01:08:44.304302Z"
    }
   },
   "cell_type": "code",
   "source": [
    "# Modify original to make 90% of applicants not reporting disability status\n",
    "np.random.seed(1951)\n",
    "na_dis_indices = list(original[original[\"Disability\"] != \"N/A\"].index)\n",
    "indices_to_modify = np.random.choice(na_dis_indices, 1670, replace=False)\n",
    "na_dis_bias = original.copy()\n",
    "na_dis_bias.loc[indices_to_modify, \"Disability\"] = \"N/A\"\n",
    "\n",
    "print(na_dis_bias[\"Disability\"].value_counts())\n",
    "na_dis_bias.to_csv(\"resume_with_bias/disability_bias/dis_na.csv\", index=False)"
   ],
   "id": "e42752eb862de751",
   "outputs": [
    {
     "name": "stdout",
     "output_type": "stream",
     "text": [
      "Disability\n",
      "N/A    2700\n",
      "1.0     155\n",
      "0.0     145\n",
      "Name: count, dtype: int64\n"
     ]
    }
   ],
   "execution_count": 102
  }
 ],
 "metadata": {
  "kernelspec": {
   "display_name": "Python 3 (ipykernel)",
   "language": "python",
   "name": "python3"
  },
  "language_info": {
   "codemirror_mode": {
    "name": "ipython",
    "version": 3
   },
   "file_extension": ".py",
   "mimetype": "text/x-python",
   "name": "python",
   "nbconvert_exporter": "python",
   "pygments_lexer": "ipython3",
   "version": "3.9.12"
  }
 },
 "nbformat": 4,
 "nbformat_minor": 5
}
